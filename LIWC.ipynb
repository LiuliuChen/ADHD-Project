{
 "cells": [
  {
   "cell_type": "markdown",
   "id": "cd46444a",
   "metadata": {},
   "source": [
    "import os\n",
    "import json\n",
    "\n",
    "if __name__ == \"__main__\":\n",
    "    data = []\n",
    "    path = 'data/users_tweets'\n",
    "    files = os.listdir(path)\n",
    "    # read all data under users_tweets\n",
    "    for file in files:\n",
    "        # file is not None\n",
    "        if os.path.getsize(path + '/' + file) != 0:\n",
    "            with open(path + '/' + file, 'r') as f:\n",
    "                data.extend(json.load(f))"
   ]
  },
  {
   "cell_type": "code",
   "execution_count": 1,
   "id": "12d9b219",
   "metadata": {},
   "outputs": [],
   "source": [
    "# pip install -U selenium\n",
    "from webdriver_manager.chrome import ChromeDriverManager"
   ]
  },
  {
   "cell_type": "code",
   "execution_count": 2,
   "id": "a07ee640",
   "metadata": {},
   "outputs": [
    {
     "name": "stdout",
     "output_type": "stream",
     "text": [
      "Requirement already satisfied: webdriver-manager in /Users/jiwonjeong/opt/anaconda3/lib/python3.9/site-packages (3.5.4)\n",
      "Requirement already satisfied: requests in /Users/jiwonjeong/opt/anaconda3/lib/python3.9/site-packages (from webdriver-manager) (2.26.0)\n",
      "Requirement already satisfied: certifi>=2017.4.17 in /Users/jiwonjeong/opt/anaconda3/lib/python3.9/site-packages (from requests->webdriver-manager) (2021.10.8)\n",
      "Requirement already satisfied: idna<4,>=2.5 in /Users/jiwonjeong/opt/anaconda3/lib/python3.9/site-packages (from requests->webdriver-manager) (3.2)\n",
      "Requirement already satisfied: urllib3<1.27,>=1.21.1 in /Users/jiwonjeong/opt/anaconda3/lib/python3.9/site-packages (from requests->webdriver-manager) (1.26.7)\n",
      "Requirement already satisfied: charset-normalizer~=2.0.0 in /Users/jiwonjeong/opt/anaconda3/lib/python3.9/site-packages (from requests->webdriver-manager) (2.0.4)\n",
      "\u001b[33mWARNING: You are using pip version 22.0.3; however, version 22.0.4 is available.\n",
      "You should consider upgrading via the '/Users/jiwonjeong/opt/anaconda3/bin/python -m pip install --upgrade pip' command.\u001b[0m\u001b[33m\n",
      "\u001b[0mNote: you may need to restart the kernel to use updated packages.\n"
     ]
    }
   ],
   "source": [
    "pip install webdriver-manager"
   ]
  },
  {
   "cell_type": "code",
   "execution_count": 95,
   "id": "173f049f",
   "metadata": {},
   "outputs": [],
   "source": [
    "from selenium import webdriver\n",
    "from webdriver_manager.chrome import ChromeDriverManager\n",
    "from selenium.webdriver.support.select import Select\n",
    "from selenium.webdriver.common.by import By\n",
    "from selenium.webdriver.common.keys import Keys\n",
    "import time\n",
    "from selenium.webdriver.support.ui import WebDriverWait\n",
    "from selenium.webdriver.support import expected_conditions as EC"
   ]
  },
  {
   "cell_type": "code",
   "execution_count": 104,
   "id": "a69e793d",
   "metadata": {},
   "outputs": [
    {
     "name": "stderr",
     "output_type": "stream",
     "text": [
      "\n",
      "\n",
      "====== WebDriver manager ======\n",
      "Current google-chrome version is 99.0.4844\n",
      "Get LATEST chromedriver version for 99.0.4844 google-chrome\n",
      "Driver [/Users/jiwonjeong/.wdm/drivers/chromedriver/mac64/99.0.4844.51/chromedriver] found in cache\n",
      "/var/folders/hn/2cggmcb50_x9yrm8d5j33kxw0000gn/T/ipykernel_84863/1503906442.py:1: DeprecationWarning: executable_path has been deprecated, please pass in a Service object\n",
      "  driver = webdriver.Chrome(ChromeDriverManager().install())\n"
     ]
    }
   ],
   "source": [
    "driver = webdriver.Chrome(ChromeDriverManager().install())"
   ]
  },
  {
   "cell_type": "code",
   "execution_count": 105,
   "id": "e25b9eda",
   "metadata": {},
   "outputs": [],
   "source": [
    "def run_LIWC(tweet):\n",
    "#     driver = webdriver.Chrome(ChromeDriverManager().install())\n",
    "    driver.get(\"https://www.liwc.app/demo\")\n",
    "    # select = Select(driver.find_element(\"[id ='textSourceQuestion']\"))\n",
    "    s = Select(driver.find_element_by_xpath(\"//select[@name='textSourceQuestion']\"))\n",
    "    s.select_by_index(4)\n",
    "    classify= s.first_selected_option\n",
    "    #Check if fetching the correct option#print(\"Selected option is: \"+ o.text)\n",
    "    # driver.close()\n",
    "    textbox = driver.find_element_by_xpath(\"/html/body/div[1]/div/section/section/form/table/tbody/tr[2]/td[2]/textarea\")\n",
    "    textbox.send_keys(tweet)\n",
    "    return driver.find_element_by_xpath(\"//*[@id='submitData']\").click()\n",
    "#     return driver.page_source\n",
    "\n"
   ]
  },
  {
   "cell_type": "code",
   "execution_count": 106,
   "id": "c40a1013",
   "metadata": {},
   "outputs": [],
   "source": [
    "tweet = \"RT @joeyroditis: Sorry I haven\\u2019t had much to post lately. It\\u2019s kind of been the everything. CW for transphobia in the news, passing mention\\u2026\""
   ]
  },
  {
   "cell_type": "code",
   "execution_count": 107,
   "id": "5b843774",
   "metadata": {},
   "outputs": [
    {
     "name": "stderr",
     "output_type": "stream",
     "text": [
      "/var/folders/hn/2cggmcb50_x9yrm8d5j33kxw0000gn/T/ipykernel_84863/1689093900.py:5: DeprecationWarning: find_element_by_xpath is deprecated. Please use find_element(by=By.XPATH, value=xpath) instead\n",
      "  s = Select(driver.find_element_by_xpath(\"//select[@name='textSourceQuestion']\"))\n",
      "/var/folders/hn/2cggmcb50_x9yrm8d5j33kxw0000gn/T/ipykernel_84863/1689093900.py:10: DeprecationWarning: find_element_by_xpath is deprecated. Please use find_element(by=By.XPATH, value=xpath) instead\n",
      "  textbox = driver.find_element_by_xpath(\"/html/body/div[1]/div/section/section/form/table/tbody/tr[2]/td[2]/textarea\")\n",
      "/var/folders/hn/2cggmcb50_x9yrm8d5j33kxw0000gn/T/ipykernel_84863/1689093900.py:12: DeprecationWarning: find_element_by_xpath is deprecated. Please use find_element(by=By.XPATH, value=xpath) instead\n",
      "  return driver.find_element_by_xpath(\"//*[@id='submitData']\").click()\n"
     ]
    }
   ],
   "source": [
    "page_src = run_LIWC(tweet)"
   ]
  },
  {
   "cell_type": "markdown",
   "id": "9db9718a",
   "metadata": {},
   "source": [
    "#collect liwc outcome\n",
    "#save all 'your text' in a list, convert them into a dataframe\n",
    "#column names: twitter id, tweet, positive tone, negative tone, social words, cognitive process, allure, moralization, analytic, authentic\n",
    "\n",
    "pos = driver.find_element(by=By.XPATH, value=\"/html/body/div[1]/div/section/section/div/table/tbody[1]/tr[2]/td[2]\")\n",
    "pos.select_by_index(0)\n",
    "posi = s.first_selected_option\n",
    "print(posi[0])\n"
   ]
  },
  {
   "cell_type": "code",
   "execution_count": 96,
   "id": "4c11d1b5",
   "metadata": {},
   "outputs": [],
   "source": [
    "import requests\n",
    "from bs4 import BeautifulSoup\n",
    "import csv\n",
    "import pandas as pd"
   ]
  },
  {
   "cell_type": "code",
   "execution_count": 108,
   "id": "afb076a7",
   "metadata": {
    "scrolled": true
   },
   "outputs": [
    {
     "name": "stdout",
     "output_type": "stream",
     "text": [
      "['0.00'] ['0.00'] ['0.00'] ['7.69'] ['0.00'] ['0.00'] ['96.70'] ['30.98']\n"
     ]
    }
   ],
   "source": [
    "#Save results in a list to transform it into a df\n",
    "PT = []\n",
    "NT = []\n",
    "SW = []\n",
    "CP = []\n",
    "ALR = []\n",
    "MRL = []\n",
    "ANL = []\n",
    "AUTH = []\n",
    "\n",
    "ps = driver.find_element(By.XPATH, \"//*[@id='results']/div/table/tbody[1]/tr[2]/td[2]\").text\n",
    "PT.append(ps)\n",
    "\n",
    "ns = driver.find_element(By.XPATH, \"//*[@id='results']/div/table/tbody[1]/tr[3]/td[2]\").text\n",
    "NT.append(ns)\n",
    "\n",
    "sw = driver.find_element(By.XPATH, \"//*[@id='results']//div/table/tbody[1]/tr[4]/td[2]\").text\n",
    "SW.append(sw)\n",
    "\n",
    "cp = driver.find_element(By.XPATH, \"//*[@id='results']/div/table/tbody[1]/tr[5]/td[2]\").text\n",
    "CP.append(cp)\n",
    "\n",
    "alr = driver.find_element(By.XPATH, \"//*[@id='results']/div/table/tbody[1]/tr[6]/td[2]\").text\n",
    "ALR.append(alr)\n",
    "\n",
    "mrl = driver.find_element(By.XPATH, \"//*[@id='results']/div/table/tbody[1]/tr[7]/td[2]\").text\n",
    "MRL.append(mrl)\n",
    "\n",
    "anl = driver.find_element(By.XPATH, \"//*[@id='results']/div/table/tbody[2]/tr[1]/td[2]\").text\n",
    "ANL.append(anl)\n",
    "\n",
    "auth = driver.find_element(By.XPATH, \"//*[@id='results']/div/table/tbody[2]/tr[2]/td[2]\").text\n",
    "AUTH.append(auth)\n",
    "\n",
    "print (PT,NT,SW,CP,ALR,MRL,ANL,AUTH)\n",
    "#if in a loop, will have a full list of posivive tone\n",
    "\n"
   ]
  },
  {
   "cell_type": "code",
   "execution_count": 109,
   "id": "413ed87f",
   "metadata": {},
   "outputs": [
    {
     "data": {
      "text/html": [
       "<div>\n",
       "<style scoped>\n",
       "    .dataframe tbody tr th:only-of-type {\n",
       "        vertical-align: middle;\n",
       "    }\n",
       "\n",
       "    .dataframe tbody tr th {\n",
       "        vertical-align: top;\n",
       "    }\n",
       "\n",
       "    .dataframe thead th {\n",
       "        text-align: right;\n",
       "    }\n",
       "</style>\n",
       "<table border=\"1\" class=\"dataframe\">\n",
       "  <thead>\n",
       "    <tr style=\"text-align: right;\">\n",
       "      <th></th>\n",
       "      <th>Positive Tone</th>\n",
       "      <th>Negative Tone</th>\n",
       "      <th>Social Words</th>\n",
       "      <th>Cognitive Processes</th>\n",
       "      <th>Allure</th>\n",
       "      <th>Moralization</th>\n",
       "      <th>Analytic</th>\n",
       "      <th>Authentic</th>\n",
       "    </tr>\n",
       "  </thead>\n",
       "  <tbody>\n",
       "    <tr>\n",
       "      <th>0</th>\n",
       "      <td>0.00</td>\n",
       "      <td>0.00</td>\n",
       "      <td>0.00</td>\n",
       "      <td>7.69</td>\n",
       "      <td>0.00</td>\n",
       "      <td>0.00</td>\n",
       "      <td>96.70</td>\n",
       "      <td>30.98</td>\n",
       "    </tr>\n",
       "  </tbody>\n",
       "</table>\n",
       "</div>"
      ],
      "text/plain": [
       "  Positive Tone Negative Tone Social Words Cognitive Processes Allure  \\\n",
       "0          0.00          0.00         0.00                7.69   0.00   \n",
       "\n",
       "  Moralization Analytic Authentic  \n",
       "0         0.00    96.70     30.98  "
      ]
     },
     "execution_count": 109,
     "metadata": {},
     "output_type": "execute_result"
    }
   ],
   "source": [
    "data = list(zip(PT,NT,SW,CP,ALR,MRL,ANL,AUTH))\n",
    "df = pd.DataFrame(data, columns = ['Positive Tone', 'Negative Tone', 'Social Words', 'Cognitive Processes', 'Allure','Moralization','Analytic','Authentic'])\n",
    "df\n"
   ]
  },
  {
   "cell_type": "markdown",
   "id": "5803a12a",
   "metadata": {},
   "source": [
    "html_soup: BeautifulSoup = BeautifulSoup(page_src, 'html.parser')\n",
    "print(driver)"
   ]
  },
  {
   "cell_type": "markdown",
   "id": "eb310dcc",
   "metadata": {},
   "source": [
    "Should I wait up to 10 seconds until element will be present on the page\n",
    "\n",
    "element = WebDriverWait(driver, 10).until(\n",
    "        EC.presence_of_element_located((By.XPATH, \"//*[@id='reportList']/tbody//td[contains(text(), 'example text')]\"))\n",
    "    )\n"
   ]
  },
  {
   "cell_type": "markdown",
   "id": "5ca53398",
   "metadata": {},
   "source": [
    "print(html_soup.prettify())\n",
    "table = html_soup.find_all('div',class_='table-wrapper')\n",
    "print (table)\n",
    "driver.find_element(By.XPATH, \"//*[@id='reportList']/tbody//td[contains(text(), 'example text')]\")\n"
   ]
  },
  {
   "cell_type": "markdown",
   "id": "9dc8af30",
   "metadata": {},
   "source": [
    "<!-- # url = \"https://www.liwc.app/demo\"\n",
    "r = requests.get(new_url)\n",
    "soup = BeautifulSoup(r.content, 'html5lib')\n",
    "print(soup.prettify())\n",
    "# pos=[]\n",
    "# table = soup.findAll('div',{'class': 'table-wrapper'})\n",
    "# print(table) -->"
   ]
  }
 ],
 "metadata": {
  "kernelspec": {
   "display_name": "Python 3 (ipykernel)",
   "language": "python",
   "name": "python3"
  },
  "language_info": {
   "codemirror_mode": {
    "name": "ipython",
    "version": 3
   },
   "file_extension": ".py",
   "mimetype": "text/x-python",
   "name": "python",
   "nbconvert_exporter": "python",
   "pygments_lexer": "ipython3",
   "version": "3.9.7"
  }
 },
 "nbformat": 4,
 "nbformat_minor": 5
}
